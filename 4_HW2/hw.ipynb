{
 "cells": [
  {
   "cell_type": "code",
   "execution_count": 2,
   "metadata": {},
   "outputs": [
    {
     "ename": "SystemExit",
     "evalue": "0",
     "output_type": "error",
     "traceback": [
      "An exception has occurred, use %tb to see the full traceback.\n",
      "\u001b[1;31mSystemExit\u001b[0m\u001b[1;31m:\u001b[0m 0\n"
     ]
    },
    {
     "name": "stderr",
     "output_type": "stream",
     "text": [
      "C:\\Users\\User\\Anaconda3\\lib\\site-packages\\IPython\\core\\interactiveshell.py:2889: UserWarning: To exit: use 'exit', 'quit', or Ctrl-D.\n",
      "  warn(\"To exit: use 'exit', 'quit', or Ctrl-D.\", stacklevel=1)\n"
     ]
    }
   ],
   "source": [
    "# -*- coding: utf-8 -*-\n",
    "\n",
    "# Form implementation generated from reading ui file 'inter.ui'\n",
    "#\n",
    "# Created by: PyQt5 UI code generator 5.9.2\n",
    "#\n",
    "# WARNING! All changes made in this file will be lost!\n",
    "\n",
    "from PyQt5 import QtCore, QtGui, QtWidgets\n",
    "import sys\n",
    "import numpy as np\n",
    "import cv2\n",
    "\n",
    "\n",
    "\n",
    "class Ui_MainWindow(object):\n",
    "    def setupUi(self, MainWindow):\n",
    "        MainWindow.setObjectName(\"MainWindow\")\n",
    "        MainWindow.resize(921, 692)\n",
    "        self.centralwidget = QtWidgets.QWidget(MainWindow)\n",
    "        self.centralwidget.setObjectName(\"centralwidget\")\n",
    "        self.pushButton = QtWidgets.QPushButton(self.centralwidget)\n",
    "        self.pushButton.setGeometry(QtCore.QRect(70, 120, 161, 91))\n",
    "        self.pushButton.setObjectName(\"pushButton\")\n",
    "        self.pushButton_2 = QtWidgets.QPushButton(self.centralwidget)\n",
    "        self.pushButton_2.setGeometry(QtCore.QRect(60, 420, 171, 91))\n",
    "        self.pushButton_2.setObjectName(\"pushButton_2\")\n",
    "        self.pushButton_3 = QtWidgets.QPushButton(self.centralwidget)\n",
    "        self.pushButton_3.setGeometry(QtCore.QRect(600, 170, 171, 71))\n",
    "        self.pushButton_3.setObjectName(\"pushButton_3\")\n",
    "        self.pushButton_4 = QtWidgets.QPushButton(self.centralwidget)\n",
    "        self.pushButton_4.setGeometry(QtCore.QRect(600, 300, 171, 71))\n",
    "        self.pushButton_4.setObjectName(\"pushButton_4\")\n",
    "        MainWindow.setCentralWidget(self.centralwidget)\n",
    "        self.menubar = QtWidgets.QMenuBar(MainWindow)\n",
    "        self.menubar.setGeometry(QtCore.QRect(0, 0, 921, 25))\n",
    "        self.menubar.setObjectName(\"menubar\")\n",
    "        MainWindow.setMenuBar(self.menubar)\n",
    "        self.statusbar = QtWidgets.QStatusBar(MainWindow)\n",
    "        self.statusbar.setObjectName(\"statusbar\")\n",
    "        MainWindow.setStatusBar(self.statusbar)\n",
    "\n",
    "        self.retranslateUi(MainWindow)\n",
    "        QtCore.QMetaObject.connectSlotsByName(MainWindow)\n",
    "\n",
    "        \n",
    "    def button1(self):\n",
    "        iml=cv2.imread(imL.png)\n",
    "        imr=cv2.imread(imR.png)\n",
    "        cvInitUndistortRectifyMap(&_M1,&_D1,&_R1,&_M1,mx1,my1);\n",
    "        cvInitUndistortRectifyMap(&_M2,&_D1,&_R2,&_M2,mx2,my2);\n",
    "        pair = cvCreateMat( imageSize.height, imageSize.width*2,CV_8UC3 );\n",
    "        CvStereoBMState *BMState = cvCreateStereoBMState();\n",
    "        assert(BMState != 0);\n",
    "        BMState->preFilterSize\n",
    "        BMState->preFilterSize=41;\n",
    "        BMState->preFilterCap=31;\n",
    "        BMState->SADWindowSize=41;\n",
    "        BMState->minDisparity=-64;\n",
    "        BMState->numberOfDisparities=128;\n",
    "        BMState->textureThreshold=10;\n",
    "        BMState->uniquenessRatio=15;\n",
    "        \n",
    "        \n",
    "        \n",
    "        '''\n",
    "         max_disp/=2;\n",
    "            if(max_disp%16!=0)\n",
    "                max_disp += 16-(max_disp%16);\n",
    "            resize(left ,left_for_matcher ,Size(),0.5,0.5, INTER_LINEAR_EXACT);\n",
    "            resize(right,right_for_matcher,Size(),0.5,0.5, INTER_LINEAR_EXACT);\n",
    "        '''\n",
    "        \n",
    "        \n",
    "    def retranslateUi(self, MainWindow):\n",
    "        _translate = QtCore.QCoreApplication.translate\n",
    "        MainWindow.setWindowTitle(_translate(\"MainWindow\", \"MainWindow\"))\n",
    "        self.pushButton.setText(_translate(\"MainWindow\", \"1.1 disparity\"))\n",
    "        self.pushButton_2.setText(_translate(\"MainWindow\", \"2.1 NCC\"))\n",
    "        self.pushButton_3.setText(_translate(\"MainWindow\", \"3.1 keypoint\"))\n",
    "        self.pushButton_4.setText(_translate(\"MainWindow\", \"3.2 matched point\"))\n",
    "\n",
    "\n",
    "        \n",
    "        \n",
    "app = QtWidgets.QApplication(sys.argv)\n",
    "MainWindow = QtWidgets.QMainWindow()\n",
    "ui = Ui_MainWindow()\n",
    "\n",
    "ui.setupUi(MainWindow) \n",
    "MainWindow.show()\n",
    "sys.exit(app.exec_())\n",
    "\n"
   ]
  },
  {
   "cell_type": "code",
   "execution_count": 5,
   "metadata": {},
   "outputs": [
    {
     "ename": "NameError",
     "evalue": "name 'Ui_MainWindow' is not defined",
     "output_type": "error",
     "traceback": [
      "\u001b[1;31m---------------------------------------------------------------------------\u001b[0m",
      "\u001b[1;31mNameError\u001b[0m                                 Traceback (most recent call last)",
      "\u001b[1;32m<ipython-input-5-f38565b641ca>\u001b[0m in \u001b[0;36m<module>\u001b[1;34m()\u001b[0m\n\u001b[0;32m      1\u001b[0m \u001b[1;33m\u001b[0m\u001b[0m\n\u001b[0;32m      2\u001b[0m \u001b[0mapp\u001b[0m \u001b[1;33m=\u001b[0m \u001b[0mQtWidgets\u001b[0m\u001b[1;33m.\u001b[0m\u001b[0mQApplication\u001b[0m\u001b[1;33m(\u001b[0m\u001b[0msys\u001b[0m\u001b[1;33m.\u001b[0m\u001b[0margv\u001b[0m\u001b[1;33m)\u001b[0m\u001b[1;33m\u001b[0m\u001b[1;33m\u001b[0m\u001b[0m\n\u001b[1;32m----> 3\u001b[1;33m \u001b[0mMainWindow\u001b[0m \u001b[1;33m=\u001b[0m \u001b[0mUi_MainWindow\u001b[0m\u001b[1;33m(\u001b[0m\u001b[1;33m)\u001b[0m \u001b[1;31m#class的名稱\u001b[0m\u001b[1;33m\u001b[0m\u001b[1;33m\u001b[0m\u001b[0m\n\u001b[0m\u001b[0;32m      4\u001b[0m \u001b[0msys\u001b[0m\u001b[1;33m.\u001b[0m\u001b[0mexit\u001b[0m\u001b[1;33m(\u001b[0m\u001b[0mapp\u001b[0m\u001b[1;33m.\u001b[0m\u001b[0mexec_\u001b[0m\u001b[1;33m(\u001b[0m\u001b[1;33m)\u001b[0m\u001b[1;33m)\u001b[0m\u001b[1;33m\u001b[0m\u001b[1;33m\u001b[0m\u001b[0m\n",
      "\u001b[1;31mNameError\u001b[0m: name 'Ui_MainWindow' is not defined"
     ]
    }
   ],
   "source": []
  },
  {
   "cell_type": "code",
   "execution_count": null,
   "metadata": {
    "collapsed": true
   },
   "outputs": [],
   "source": []
  }
 ],
 "metadata": {
  "kernelspec": {
   "display_name": "Python 3",
   "language": "python",
   "name": "python3"
  },
  "language_info": {
   "codemirror_mode": {
    "name": "ipython",
    "version": 3
   },
   "file_extension": ".py",
   "mimetype": "text/x-python",
   "name": "python",
   "nbconvert_exporter": "python",
   "pygments_lexer": "ipython3",
   "version": "3.6.9"
  }
 },
 "nbformat": 4,
 "nbformat_minor": 2
}
